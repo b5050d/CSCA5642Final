{
 "cells": [
  {
   "cell_type": "markdown",
   "metadata": {},
   "source": [
    "# CSCA 5642 - Deep Learning Final Project\n"
   ]
  },
  {
   "cell_type": "markdown",
   "metadata": {},
   "source": [
    "### Project Topic\n",
    "\n",
    "The topic of this project is Reinforcement Learning but also Deep Learning as this project will use Deep Q Learning (DQN) which involves multilayer Neural Networks like we have been using throughout the CSCA5642 class. I was interested in Reinforcement Learning and was hoping we would go over this in class, and since we did it, I am doing my final project on RL.\n",
    "\n",
    "\n",
    "## Problem Description \n",
    "\n",
    "Source for Project Data:\n",
    "https://www.gymlibrary.dev/environments/classic_control/cart_pole/\n",
    "\n",
    "The Machine Learning problem provided at the above link is a simple Reinforcement Learning Game. In this game there is a cart that is defined to moving in one dimension, left or right. On top of the cart there is a balanced pole and the pole will fall over if not corrected. The cart may move either left or right to keep the pole balanced on top of the cart.\n",
    "\n",
    "![Problem Description](images/problem_description.png)\n",
    "\n",
    "### Data Description\n",
    "\n",
    "\n",
    "![Boundaries for data](images/problem_boundaries.png)\n"
   ]
  },
  {
   "cell_type": "code",
   "execution_count": null,
   "metadata": {
    "vscode": {
     "languageId": "plaintext"
    }
   },
   "outputs": [],
   "source": [
    "import os\n",
    "import gym\n",
    "import numpy as np\n",
    "import random\n",
    "from tensorflow.keras.models import Sequential\n",
    "from tensorflow.keras.layers import Dense\n",
    "from tensorflow.keras.optimizers import Adam\n",
    "import pandas as pd\n",
    "from matplotlib import pyplot as plt"
   ]
  },
  {
   "cell_type": "markdown",
   "metadata": {},
   "source": [
    "## Exploratory Data Analysis\n",
    "\n",
    "TOOD - Take a deeper look at the data"
   ]
  },
  {
   "cell_type": "markdown",
   "metadata": {},
   "source": [
    "## Model Building\n",
    "\n",
    "Lets start by building a basic model, we will call this model 1"
   ]
  },
  {
   "cell_type": "markdown",
   "metadata": {},
   "source": [
    "##"
   ]
  },
  {
   "cell_type": "markdown",
   "metadata": {},
   "source": []
  }
 ],
 "metadata": {
  "language_info": {
   "name": "python"
  }
 },
 "nbformat": 4,
 "nbformat_minor": 2
}
